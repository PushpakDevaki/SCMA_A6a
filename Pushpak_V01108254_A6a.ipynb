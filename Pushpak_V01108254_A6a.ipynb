{
 "cells": [
  {
   "cell_type": "code",
   "execution_count": 1,
   "id": "260d91c3-c060-49bb-813b-b410ebf4b390",
   "metadata": {},
   "outputs": [
    {
     "ename": "ModuleNotFoundError",
     "evalue": "No module named 'yfinance'",
     "output_type": "error",
     "traceback": [
      "\u001b[1;31m---------------------------------------------------------------------------\u001b[0m",
      "\u001b[1;31mModuleNotFoundError\u001b[0m                       Traceback (most recent call last)",
      "Cell \u001b[1;32mIn[1], line 3\u001b[0m\n\u001b[0;32m      1\u001b[0m \u001b[38;5;28;01mimport\u001b[39;00m \u001b[38;5;21;01mpandas\u001b[39;00m \u001b[38;5;28;01mas\u001b[39;00m \u001b[38;5;21;01mpd\u001b[39;00m\n\u001b[0;32m      2\u001b[0m \u001b[38;5;28;01mimport\u001b[39;00m \u001b[38;5;21;01mnumpy\u001b[39;00m \u001b[38;5;28;01mas\u001b[39;00m \u001b[38;5;21;01mnp\u001b[39;00m\n\u001b[1;32m----> 3\u001b[0m \u001b[38;5;28;01mimport\u001b[39;00m \u001b[38;5;21;01myfinance\u001b[39;00m \u001b[38;5;28;01mas\u001b[39;00m \u001b[38;5;21;01myf\u001b[39;00m\n\u001b[0;32m      4\u001b[0m \u001b[38;5;28;01mimport\u001b[39;00m \u001b[38;5;21;01mmatplotlib\u001b[39;00m\u001b[38;5;21;01m.\u001b[39;00m\u001b[38;5;21;01mpyplot\u001b[39;00m \u001b[38;5;28;01mas\u001b[39;00m \u001b[38;5;21;01mplt\u001b[39;00m\n\u001b[0;32m      5\u001b[0m \u001b[38;5;28;01mfrom\u001b[39;00m \u001b[38;5;21;01mstatsmodels\u001b[39;00m\u001b[38;5;21;01m.\u001b[39;00m\u001b[38;5;21;01mtsa\u001b[39;00m\u001b[38;5;21;01m.\u001b[39;00m\u001b[38;5;21;01mseasonal\u001b[39;00m \u001b[38;5;28;01mimport\u001b[39;00m seasonal_decompose\n",
      "\u001b[1;31mModuleNotFoundError\u001b[0m: No module named 'yfinance'"
     ]
    }
   ],
   "source": [
    "import pandas as pd\n",
    "import numpy as np\n",
    "import yfinance as yf\n",
    "import matplotlib.pyplot as plt\n",
    "from statsmodels.tsa.seasonal import seasonal_decompose\n",
    "from sklearn.model_selection import train_test_split\n"
   ]
  },
  {
   "cell_type": "code",
   "execution_count": null,
   "id": "33a25ca4-6618-4288-b94d-4d794979eb84",
   "metadata": {},
   "outputs": [],
   "source": [
    "#pip install yfinance"
   ]
  },
  {
   "cell_type": "code",
   "execution_count": null,
   "id": "9af4c1ad-d055-4823-b232-f14f7b5c1bad",
   "metadata": {},
   "outputs": [],
   "source": [
    "# Get the data for tatamotors\n",
    "ticker = \"telsa.ns\"  \n",
    "\n",
    "# Download the data\n",
    "data = yf.download(ticker, start=\"2021-04-01\", end=\"2024-03-31\")"
   ]
  },
  {
   "cell_type": "code",
   "execution_count": null,
   "id": "56ecd7ef-2799-4753-a97a-dcf331c029b6",
   "metadata": {},
   "outputs": [],
   "source": [
    "!pip install yfinance\n",
    "\n"
   ]
  },
  {
   "cell_type": "code",
   "execution_count": null,
   "id": "184e2aec-cc75-4049-871a-5012488b6f39",
   "metadata": {},
   "outputs": [],
   "source": [
    "import pandas as pd\n",
    "import numpy as np\n",
    "import yfinance as yf\n",
    "import matplotlib.pyplot as plt\n",
    "from statsmodels.tsa.seasonal import seasonal_decompose\n",
    "from sklearn.model_selection import train_test_split"
   ]
  },
  {
   "cell_type": "code",
   "execution_count": null,
   "id": "06e55220-92b5-48c1-acb9-c255b1c921da",
   "metadata": {},
   "outputs": [],
   "source": [
    "# Get the data for tesla\n",
    "ticker = \"telsa.ns\"  \n",
    "\n",
    "# Download the data\n",
    "data = yf.download(ticker, start=\"2021-04-01\", end=\"2024-03-31\")"
   ]
  },
  {
   "cell_type": "code",
   "execution_count": null,
   "id": "cd830777-70bb-47c4-b69e-b0dd42cb14fd",
   "metadata": {},
   "outputs": [],
   "source": [
    "\n",
    "data.head()"
   ]
  },
  {
   "cell_type": "code",
   "execution_count": null,
   "id": "c1e3e0b2-5e7e-4d36-876e-db539a339a0c",
   "metadata": {},
   "outputs": [],
   "source": [
    "ticker=\"tsla\""
   ]
  },
  {
   "cell_type": "code",
   "execution_count": null,
   "id": "dd141a7d-496a-4d9f-b560-9a3e6ea56a48",
   "metadata": {},
   "outputs": [],
   "source": [
    "data = yf.download(ticker, start=\"2021-04-01\", end=\"2024-03-31\")"
   ]
  },
  {
   "cell_type": "code",
   "execution_count": null,
   "id": "c07d5751-e367-4958-8502-85824299a580",
   "metadata": {},
   "outputs": [],
   "source": [
    "data.head()"
   ]
  },
  {
   "cell_type": "code",
   "execution_count": null,
   "id": "ed67c612-28dc-4fca-b775-d5f7fc81cc5a",
   "metadata": {},
   "outputs": [],
   "source": [
    "# Select the Target Varibale Adj Close\n",
    "df = data[['Adj Close']]\n",
    "\n",
    "# Check for missing values\n",
    "print(\"Missing values:\")\n",
    "print(df.isnull().sum())"
   ]
  },
  {
   "cell_type": "code",
   "execution_count": null,
   "id": "6b301ae9-609e-48d2-9ee0-8b4ca042a7f0",
   "metadata": {},
   "outputs": [],
   "source": [
    "# Plot the data\n",
    "plt.figure(figsize=(10, 5))\n",
    "plt.plot(df, label='Adj Close Price')\n",
    "plt.title('TATAMOTORS.NS Adj Close Price')\n",
    "plt.xlabel('Date')\n",
    "plt.ylabel('Adj Close Price')\n",
    "plt.legend()\n",
    "plt.show()"
   ]
  },
  {
   "cell_type": "code",
   "execution_count": null,
   "id": "cba984c9-0dbc-4032-a080-7123c1c74bd1",
   "metadata": {},
   "outputs": [],
   "source": [
    "from statsmodels.tsa.seasonal import seasonal_decompose"
   ]
  },
  {
   "cell_type": "code",
   "execution_count": null,
   "id": "7f0484dd-f1ff-4e93-8105-b034d72a8391",
   "metadata": {},
   "outputs": [],
   "source": [
    "\n",
    "df.columns"
   ]
  },
  {
   "cell_type": "code",
   "execution_count": null,
   "id": "1a420ce6-1472-4fef-95e2-ec7a7b306d27",
   "metadata": {},
   "outputs": [],
   "source": [
    "from statsmodels.tsa.seasonal import seasonal_decompose\n",
    "\n",
    "# Decompose the time series\n",
    "result = seasonal_decompose(df['Adj Close'], model='multiplicative', period=12)\n",
    "\n",
    "# Plot the decomposed components\n",
    "fig, (ax1, ax2, ax3, ax4) = plt.subplots(4, 1, figsize=(12, 10), sharex=True)\n",
    "result.observed.plot(ax=ax1)\n",
    "ax1.set_ylabel('Observed')\n",
    "result.trend.plot(ax=ax2)\n",
    "ax2.set_ylabel('Trend')\n",
    "result.seasonal.plot(ax=ax3)\n",
    "ax3.set_ylabel('Seasonal')\n",
    "result.resid.plot(ax=ax4)\n",
    "ax4.set_ylabel('Residual')\n",
    "plt.xlabel('Date')\n",
    "plt.tight_layout()\n",
    "plt.show()"
   ]
  },
  {
   "cell_type": "code",
   "execution_count": null,
   "id": "435ae2ca-16a7-485e-8b99-6b3ae92ff906",
   "metadata": {},
   "outputs": [],
   "source": [
    "# Split the data into training and test sets\n",
    "train_data, test_data = train_test_split(df, test_size=0.2, shuffle=False)"
   ]
  },
  {
   "cell_type": "code",
   "execution_count": null,
   "id": "d4a71eab-9ce5-4eb7-bcc0-436448ce84ed",
   "metadata": {},
   "outputs": [],
   "source": [
    "monthly_data = df.resample(\"M\").mean()"
   ]
  },
  {
   "cell_type": "code",
   "execution_count": 2,
   "id": "3ded0832-cd1a-4843-8338-7ef2460a0e6f",
   "metadata": {},
   "outputs": [
    {
     "ename": "NameError",
     "evalue": "name 'train_test_split' is not defined",
     "output_type": "error",
     "traceback": [
      "\u001b[1;31m---------------------------------------------------------------------------\u001b[0m",
      "\u001b[1;31mNameError\u001b[0m                                 Traceback (most recent call last)",
      "Cell \u001b[1;32mIn[2], line 2\u001b[0m\n\u001b[0;32m      1\u001b[0m \u001b[38;5;66;03m# Split the data into training and test sets\u001b[39;00m\n\u001b[1;32m----> 2\u001b[0m train_data, test_data \u001b[38;5;241m=\u001b[39m train_test_split(monthly_data, test_size\u001b[38;5;241m=\u001b[39m\u001b[38;5;241m0.2\u001b[39m, shuffle\u001b[38;5;241m=\u001b[39m\u001b[38;5;28;01mFalse\u001b[39;00m)\n",
      "\u001b[1;31mNameError\u001b[0m: name 'train_test_split' is not defined"
     ]
    }
   ],
   "source": [
    "# Split the data into training and test sets\n",
    "train_data, test_data = train_test_split(monthly_data, test_size=0.2, shuffle=False)"
   ]
  },
  {
   "cell_type": "code",
   "execution_count": 3,
   "id": "7f4c61d2-e508-432a-b2a2-a91e22becb2c",
   "metadata": {},
   "outputs": [
    {
     "ename": "NameError",
     "evalue": "name 'monthly_data' is not defined",
     "output_type": "error",
     "traceback": [
      "\u001b[1;31m---------------------------------------------------------------------------\u001b[0m",
      "\u001b[1;31mNameError\u001b[0m                                 Traceback (most recent call last)",
      "Cell \u001b[1;32mIn[3], line 1\u001b[0m\n\u001b[1;32m----> 1\u001b[0m \u001b[38;5;28mlen\u001b[39m(monthly_data), \u001b[38;5;28mlen\u001b[39m(train_data)\n",
      "\u001b[1;31mNameError\u001b[0m: name 'monthly_data' is not defined"
     ]
    }
   ],
   "source": [
    "len(monthly_data), len(train_data)"
   ]
  },
  {
   "cell_type": "code",
   "execution_count": 4,
   "id": "2af31b83-2d33-4338-8082-8631b2236b01",
   "metadata": {},
   "outputs": [
    {
     "ename": "NameError",
     "evalue": "name 'train_data' is not defined",
     "output_type": "error",
     "traceback": [
      "\u001b[1;31m---------------------------------------------------------------------------\u001b[0m",
      "\u001b[1;31mNameError\u001b[0m                                 Traceback (most recent call last)",
      "Cell \u001b[1;32mIn[4], line 4\u001b[0m\n\u001b[0;32m      1\u001b[0m \u001b[38;5;28;01mfrom\u001b[39;00m \u001b[38;5;21;01mstatsmodels\u001b[39;00m\u001b[38;5;21;01m.\u001b[39;00m\u001b[38;5;21;01mtsa\u001b[39;00m\u001b[38;5;21;01m.\u001b[39;00m\u001b[38;5;21;01mholtwinters\u001b[39;00m \u001b[38;5;28;01mimport\u001b[39;00m ExponentialSmoothing\n\u001b[0;32m      3\u001b[0m \u001b[38;5;66;03m# Fit the Holt-Winters model\u001b[39;00m\n\u001b[1;32m----> 4\u001b[0m holt_winters_model \u001b[38;5;241m=\u001b[39m ExponentialSmoothing(train_data, seasonal\u001b[38;5;241m=\u001b[39m\u001b[38;5;124m'\u001b[39m\u001b[38;5;124mmul\u001b[39m\u001b[38;5;124m'\u001b[39m, seasonal_periods\u001b[38;5;241m=\u001b[39m\u001b[38;5;241m12\u001b[39m)\u001b[38;5;241m.\u001b[39mfit()\n\u001b[0;32m      6\u001b[0m \u001b[38;5;66;03m# Forecast for the next year (12 months)\u001b[39;00m\n\u001b[0;32m      7\u001b[0m holt_winters_forecast \u001b[38;5;241m=\u001b[39m holt_winters_model\u001b[38;5;241m.\u001b[39mforecast(\u001b[38;5;241m12\u001b[39m)\n",
      "\u001b[1;31mNameError\u001b[0m: name 'train_data' is not defined"
     ]
    }
   ],
   "source": [
    "from statsmodels.tsa.holtwinters import ExponentialSmoothing\n",
    "\n",
    "# Fit the Holt-Winters model\n",
    "holt_winters_model = ExponentialSmoothing(train_data, seasonal='mul', seasonal_periods=12).fit()\n",
    "\n",
    "# Forecast for the next year (12 months)\n",
    "holt_winters_forecast = holt_winters_model.forecast(12)"
   ]
  },
  {
   "cell_type": "code",
   "execution_count": null,
   "id": "fb01d735-5215-43aa-993a-5fac9d258d86",
   "metadata": {},
   "outputs": [],
   "source": [
    "# Plot the forecast\n",
    "plt.figure(figsize=(10, 5))\n",
    "plt.plot(train_data, label='Observed')\n",
    "plt.plot(holt_winters_forecast, label='Holt-Winters Forecast', linestyle='--')\n",
    "plt.title('Holt-Winters Forecast')\n",
    "plt.xlabel('Date')\n",
    "plt.ylabel('Close Price')\n",
    "plt.legend()\n",
    "plt.show()"
   ]
  },
  {
   "cell_type": "code",
   "execution_count": null,
   "id": "a6ea16a8-f28b-4795-a3c0-3d2691a286c3",
   "metadata": {},
   "outputs": [],
   "source": [
    "# Forecast for the next year (12 months)\n",
    "y_pred = holt_winters_model.forecast(8)"
   ]
  },
  {
   "cell_type": "code",
   "execution_count": null,
   "id": "5cafac7e-a872-4c6b-91af-c61763264244",
   "metadata": {},
   "outputs": [],
   "source": [
    "\n",
    "\n",
    "len(test_data), len(y_pred)"
   ]
  },
  {
   "cell_type": "code",
   "execution_count": null,
   "id": "023e872f-9a8e-4680-8383-be09bdeb2e02",
   "metadata": {},
   "outputs": [],
   "source": [
    "y_pred, test_data"
   ]
  },
  {
   "cell_type": "code",
   "execution_count": null,
   "id": "bed8e84b-3750-4095-9266-c38c59261784",
   "metadata": {},
   "outputs": [],
   "source": [
    "from sklearn.metrics import mean_squared_error, mean_absolute_error, r2_score\n",
    "\n",
    "# Compute RMSE\n",
    "rmse = np.sqrt(mean_squared_error(test_data, y_pred))\n",
    "print(f'RMSE: {rmse}')\n",
    "\n",
    "# Compute MAE\n",
    "mae = mean_absolute_error(test_data, y_pred)\n",
    "print(f'MAE: {mae}')\n",
    "\n",
    "# Compute MAPE\n",
    "mape = np.mean(np.abs((test_data - y_pred) / test_data)) * 100\n",
    "print(f'MAPE: {mape}')\n",
    "# Compute R-squared\n",
    "r2 = r2_score(test_data, y_pred)\n",
    "print(f'R-squared: {r2}')"
   ]
  },
  {
   "cell_type": "code",
   "execution_count": null,
   "id": "09870438-d9f0-4d4f-976d-51c7d1b71c6d",
   "metadata": {},
   "outputs": [],
   "source": [
    "# Forecast for the next year (12 months)\n",
    "holt_winters_forecast = holt_winters_model.forecast(len(test_data)+12)"
   ]
  },
  {
   "cell_type": "code",
   "execution_count": null,
   "id": "75972ca0-657b-4529-b304-dc346cdd42e3",
   "metadata": {},
   "outputs": [],
   "source": [
    "\n",
    "holt_winters_forecast"
   ]
  },
  {
   "cell_type": "code",
   "execution_count": null,
   "id": "95817b05-6bbf-409f-bfd2-dc3ec6c9a4cf",
   "metadata": {},
   "outputs": [],
   "source": [
    "monthly_data.columns"
   ]
  },
  {
   "cell_type": "code",
   "execution_count": null,
   "id": "2568d603-3c5b-4d72-a23d-de1230aae44b",
   "metadata": {},
   "outputs": [],
   "source": [
    "from pmdarima import auto_arima"
   ]
  },
  {
   "cell_type": "code",
   "execution_count": null,
   "id": "ece60f8f-12b8-4c60-9476-d6238718d4fa",
   "metadata": {},
   "outputs": [],
   "source": [
    "!pip install pmdarima\n"
   ]
  },
  {
   "cell_type": "code",
   "execution_count": null,
   "id": "22c3b7d8-bdc7-4dda-9ce9-14bcff932a1d",
   "metadata": {},
   "outputs": [],
   "source": [
    "from pmdarima import auto_arima"
   ]
  },
  {
   "cell_type": "code",
   "execution_count": null,
   "id": "c7ea3128-9037-4a40-a3a8-708b3a6b6965",
   "metadata": {},
   "outputs": [],
   "source": [
    "# Fit auto_arima model\n",
    "arima_model = auto_arima(train_data['Adj Close'], \n",
    "                         seasonal=True, \n",
    "                         m=12,  # Monthly seasonality\n",
    "                         stepwise=True, \n",
    "                         suppress_warnings=True)\n",
    "\n",
    "# Print the model summary\n",
    "print(arima_model.summary())"
   ]
  },
  {
   "cell_type": "code",
   "execution_count": null,
   "id": "9aa3003d-6e93-46e2-82d5-493af8728b54",
   "metadata": {},
   "outputs": [],
   "source": [
    "# Number of periods to forecast\n",
    "n_periods = 8\n",
    "\n",
    "# Generate forecast\n",
    "forecast, conf_int = arima_model.predict(n_periods=n_periods, return_conf_int=True)\n",
    "\n",
    "# Plot the original data, fitted values, and forecast\n",
    "plt.figure(figsize=(12, 6))\n",
    "plt.plot(train_data['Adj Close'], label='Original Data')\n",
    "plt.plot(forecast.index, forecast, label='Forecast', color='green')\n",
    "plt.fill_between(forecast.index, \n",
    "                 conf_int[:, 0], \n",
    "                 conf_int[:, 1], \n",
    "                 color='k', alpha=.15)\n",
    "plt.legend()\n",
    "plt.xlabel('Date')\n",
    "plt.ylabel('Value')\n",
    "plt.title('Auto ARIMA Forecasting')\n",
    "plt.show()"
   ]
  },
  {
   "cell_type": "code",
   "execution_count": null,
   "id": "58c0c12f-3361-4d19-89bd-30c410b983de",
   "metadata": {},
   "outputs": [],
   "source": [
    "len(forecast)"
   ]
  },
  {
   "cell_type": "code",
   "execution_count": null,
   "id": "dbe7a85a-3b6b-4835-8ac5-76b8cd0ba92c",
   "metadata": {},
   "outputs": [],
   "source": [
    "from sklearn.metrics import mean_squared_error, mean_absolute_error, r2_score\n",
    "\n",
    "# Compute RMSE\n",
    "rmse = np.sqrt(mean_squared_error(test_data, forecast))\n",
    "print(f'RMSE: {rmse}')\n",
    "\n",
    "# Compute MAE\n",
    "mae = mean_absolute_error(test_data, forecast)\n",
    "print(f'MAE: {mae}')\n",
    "\n",
    "# Compute MAPE\n",
    "mape = np.mean(np.abs((test_data - forecast) / forecast)) * 100\n",
    "print(f'MAPE: {mape}')\n",
    "# Compute R-squared\n",
    "r2 = r2_score(test_data, forecast)\n",
    "print(f'R-squared: {r2}')"
   ]
  },
  {
   "cell_type": "code",
   "execution_count": null,
   "id": "5bbbd1ac-30e8-4867-b84a-fe8440837a1f",
   "metadata": {},
   "outputs": [],
   "source": [
    "daily_data= df.copy()"
   ]
  },
  {
   "cell_type": "code",
   "execution_count": null,
   "id": "6d3ca6e8-2886-4620-a12d-2c533ecb939b",
   "metadata": {},
   "outputs": [],
   "source": [
    "# Plot the original data, fitted values, and forecast\n",
    "plt.figure(figsize=(12, 6))\n",
    "plt.plot(daily_data['Adj Close'])\n",
    "plt.xlabel('Date')\n",
    "plt.ylabel('Value')\n",
    "plt.show()"
   ]
  },
  {
   "cell_type": "code",
   "execution_count": null,
   "id": "6691565b-69c6-4736-b93e-4d45b435308b",
   "metadata": {},
   "outputs": [],
   "source": [
    "\n",
    "# Fit auto_arima model\n",
    "arima_model = auto_arima(daily_data['Adj Close'], \n",
    "                         seasonal=True, \n",
    "                         m=7,  # Weekly seasonality\n",
    "                         stepwise=True, \n",
    "                         suppress_warnings=True)"
   ]
  },
  {
   "cell_type": "code",
   "execution_count": null,
   "id": "b770fc4c-fc76-4d9f-b669-c55b2d2ec2b1",
   "metadata": {},
   "outputs": [],
   "source": [
    "\n",
    "# Print the model summary\n",
    "print(arima_model.summary())"
   ]
  },
  {
   "cell_type": "code",
   "execution_count": null,
   "id": "1fe65338-0207-40ee-a9c7-9817206082df",
   "metadata": {},
   "outputs": [],
   "source": [
    "# Generate in-sample predictions\n",
    "fitted_values = arima_model.predict_in_sample()"
   ]
  },
  {
   "cell_type": "code",
   "execution_count": null,
   "id": "c228ea95-0657-4865-8b72-5dc4b216353b",
   "metadata": {},
   "outputs": [],
   "source": [
    "\n",
    "fitted_values"
   ]
  },
  {
   "cell_type": "code",
   "execution_count": null,
   "id": "517a1797-939b-4c50-b7f4-5202c3718efb",
   "metadata": {},
   "outputs": [],
   "source": [
    "# Number of periods to forecast\n",
    "n_periods = 60  # For example, forecast the next 30 days\n",
    "\n",
    "# Generate forecast\n",
    "forecast, conf_int = arima_model.predict(n_periods=n_periods, return_conf_int=True)"
   ]
  },
  {
   "cell_type": "code",
   "execution_count": null,
   "id": "3771b22c-113f-4ca0-9032-2956782231a2",
   "metadata": {},
   "outputs": [],
   "source": [
    "len(forecast)"
   ]
  },
  {
   "cell_type": "code",
   "execution_count": null,
   "id": "72055fa2-f65d-4d9f-a9b8-b82e9f471222",
   "metadata": {},
   "outputs": [],
   "source": [
    "en(future_dates)"
   ]
  },
  {
   "cell_type": "code",
   "execution_count": null,
   "id": "2b13b984-dc10-4dc4-9ec5-c6637eeb399d",
   "metadata": {},
   "outputs": [],
   "source": [
    "\n",
    "len(future_dates)"
   ]
  },
  {
   "cell_type": "code",
   "execution_count": null,
   "id": "c376fb60-936f-4f17-a5a9-7d92ad7f4992",
   "metadata": {},
   "outputs": [],
   "source": [
    "# Create future dates index\n",
    "last_date = daily_data.index[-1]\n",
    "future_dates = pd.date_range(start=last_date + pd.Timedelta(days=1), periods=n_periods)\n",
    "\n",
    "# Convert forecast to a DataFrame with future_dates as the index\n",
    "forecast_df = pd.DataFrame(forecast.values, index=future_dates, columns=['forecast'])\n",
    "conf_int_df = pd.DataFrame(conf_int, index=future_dates, columns=['lower_bound', 'upper_bound'])"
   ]
  },
  {
   "cell_type": "code",
   "execution_count": null,
   "id": "dcc2515e-5361-441a-8e2d-487318b492c3",
   "metadata": {},
   "outputs": [],
   "source": [
    "# Plot the original data, fitted values, and forecast\n",
    "plt.figure(figsize=(12, 6))\n",
    "plt.plot(daily_data['Adj Close'], label='Original Data')\n",
    "plt.plot(forecast_df, label='Forecast', color='green')\n",
    "plt.fill_between(future_dates, \n",
    "                 conf_int_df['lower_bound'], \n",
    "                 conf_int_df['upper_bound'], \n",
    "                 color='k', alpha=.15)\n",
    "plt.legend()\n",
    "plt.xlabel('Date')\n",
    "plt.ylabel('Value')\n",
    "plt.title('Auto ARIMA Forecasting')\n",
    "plt.show()"
   ]
  },
  {
   "cell_type": "code",
   "execution_count": null,
   "id": "33701f25-b9d4-4828-9877-82bdc1ebba10",
   "metadata": {},
   "outputs": [],
   "source": [
    "from tensorflow.keras.models import Sequential\n",
    "from tensorflow.keras.layers import LSTM, Dense, Dropout\n",
    "from sklearn.preprocessing import MinMaxScaler\n",
    "import pandas as pd\n",
    "import numpy as np"
   ]
  },
  {
   "cell_type": "code",
   "execution_count": null,
   "id": "d85a9fa4-215e-4295-82d2-20e22fdaec41",
   "metadata": {},
   "outputs": [],
   "source": [
    "!pip install tensorflow\n"
   ]
  },
  {
   "cell_type": "code",
   "execution_count": null,
   "id": "46b21e22-645b-4829-a79f-a75294396ded",
   "metadata": {},
   "outputs": [],
   "source": [
    "\n",
    "data.head()"
   ]
  },
  {
   "cell_type": "code",
   "execution_count": null,
   "id": "ad1b9e19-a035-47ae-b1bb-bc8c051779c8",
   "metadata": {},
   "outputs": [],
   "source": [
    "# Initialize MinMaxScaler\n",
    "scaler = MinMaxScaler()\n",
    "\n",
    "# Select features (excluding 'Adj Close') and target ('Adj Close')\n",
    "features = data.drop(columns=['Adj Close'])\n",
    "target = data[['Adj Close']]\n",
    "\n",
    "# Fit the scaler on features and target\n",
    "scaled_features = scaler.fit_transform(features)\n",
    "scaled_target = scaler.fit_transform(target)\n",
    "\n",
    "# Create DataFrame with scaled features and target\n",
    "scaled_df = pd.DataFrame(scaled_features, columns=features.columns, index=df.index)\n",
    "scaled_df['Adj Close'] = scaled_target"
   ]
  },
  {
   "cell_type": "code",
   "execution_count": null,
   "id": "92ec6a42-bb80-4802-b9a3-f0af60f4f931",
   "metadata": {},
   "outputs": [],
   "source": [
    "from sklearn.preprocessing import MinMaxScaler\n"
   ]
  },
  {
   "cell_type": "code",
   "execution_count": null,
   "id": "eebdcdf1-d85b-48e0-9256-57769d9093c9",
   "metadata": {},
   "outputs": [],
   "source": [
    "import numpy as np\n",
    "\n",
    "# Function to create sequences\n",
    "def create_sequences(scaled_df, target_col, sequence_length):\n",
    "    sequences = []\n",
    "    labels = []\n",
    "    for i in range(len(scaled_df) - sequence_length):\n",
    "        sequences.append(scaled_df[i:i + sequence_length])\n",
    "        labels.append(scaled_df[i + sequence_length, target_col])  # Target column index\n",
    "    return np.array(sequences), np.array(labels)\n",
    "\n",
    "# Convert DataFrame to NumPy array\n",
    "data_array = scaled_df.values\n",
    "\n",
    "# Define the target column index and sequence length\n",
    "target_col = scaled_df.columns.get_loc('Adj Close')\n",
    "sequence_length = 30\n",
    "\n",
    "# Create sequences\n",
    "X, y = create_sequences(data_array, target_col, sequence_length)\n",
    "\n",
    "print(\"Shape of X:\", X.shape)\n",
    "print(\"Shape of y:\", y.shape)"
   ]
  },
  {
   "cell_type": "code",
   "execution_count": null,
   "id": "e1c78453-6fb1-4ed7-847f-e2b0318dba52",
   "metadata": {},
   "outputs": [],
   "source": [
    "from sklearn.preprocessing import MinMaxScaler\n",
    "\n",
    "# Assuming `data` is your original DataFrame\n",
    "scaler = MinMaxScaler()\n",
    "scaled_data = scaler.fit_transform(data)\n",
    "scaled_df = pd.DataFrame(scaled_data, columns=data.columns)\n"
   ]
  },
  {
   "cell_type": "code",
   "execution_count": null,
   "id": "1e7b714d-b774-46ad-aad4-7ebe2a35f2dc",
   "metadata": {},
   "outputs": [],
   "source": [
    "data_array = scaled_df.values\n"
   ]
  },
  {
   "cell_type": "code",
   "execution_count": null,
   "id": "567f33b4-2f25-482e-ac85-3c69e6bfecd9",
   "metadata": {},
   "outputs": [],
   "source": [
    " import numpy as np\n",
    "\n",
    "# Function to create sequences\n",
    "def create_sequences(scaled_df, target_col, sequence_length):\n",
    "    sequences = []\n",
    "    labels = []\n",
    "    for i in range(len(scaled_df) - sequence_length):\n",
    "        sequences.append(scaled_df[i:i + sequence_length])\n",
    "        labels.append(scaled_df[i + sequence_length, target_col])  # Target column index\n",
    "    return np.array(sequences), np.array(labels)\n",
    "\n",
    "# Convert DataFrame to NumPy array\n",
    "data_array = scaled_df.values\n",
    "\n",
    "# Define the target column index and sequence length\n",
    "target_col = scaled_df.columns.get_loc('Adj Close')\n",
    "sequence_length = 30\n",
    "\n",
    "# Create sequences\n",
    "X, y = create_sequences(data_array, target_col, sequence_length)\n",
    "\n",
    "print(\"Shape of X:\", X.shape)\n",
    "print(\"Shape of y:\", y.shape)\n"
   ]
  },
  {
   "cell_type": "code",
   "execution_count": null,
   "id": "8142fdd7-f1b2-4fee-8177-79ca35bf6b0c",
   "metadata": {
    "scrolled": true
   },
   "outputs": [],
   "source": [
    "# Split the data into training and testing sets (80% training, 20% testing)\n",
    "train_size = int(len(X) * 0.8)\n",
    "X_train, X_test = X[:train_size], X[train_size:]\n",
    "y_train, y_test = y[:train_size], y[train_size:]\n",
    "\n",
    "# Build the LSTM model\n",
    "model = Sequential()\n",
    "model.add(LSTM(units=50, return_sequences=True, input_shape=(sequence_length, 6)))\n",
    "model.add(Dropout(0.2))\n",
    "model.add(LSTM(units=50, return_sequences=False))\n",
    "model.add(Dropout(0.2))\n",
    "model.add(Dense(units=1))"
   ]
  },
  {
   "cell_type": "code",
   "execution_count": null,
   "id": "bc8a26cd-76a4-4452-a1dc-f5646d310b72",
   "metadata": {},
   "outputs": [],
   "source": [
    "from tensorflow.keras.models import Sequential\n",
    "from tensorflow.keras.layers import LSTM, Dropout, Dense\n"
   ]
  },
  {
   "cell_type": "code",
   "execution_count": null,
   "id": "310f0a44-d9e4-4543-8a3b-dad3a2465bac",
   "metadata": {},
   "outputs": [],
   "source": [
    "pip install tensorflow\n"
   ]
  },
  {
   "cell_type": "code",
   "execution_count": null,
   "id": "a8e872b2-bd0c-423c-84cd-a30316cae218",
   "metadata": {},
   "outputs": [],
   "source": [
    "\n",
    "# Split the data into training and testing sets (80% training, 20% testing)\n",
    "train_size = int(len(X) * 0.8)\n",
    "X_train, X_test = X[:train_size], X[train_size:]\n",
    "y_train, y_test = y[:train_size], y[train_size:]\n",
    "\n",
    "# Build the LSTM model\n",
    "model = Sequential()\n",
    "model.add(LSTM(units=50, return_sequences=True, input_shape=(sequence_length, 6)))\n",
    "model.add(Dropout(0.2))\n",
    "model.add(LSTM(units=50, return_sequences=False))\n",
    "model.add(Dropout(0.2))\n",
    "model.add(Dense(units=1))"
   ]
  },
  {
   "cell_type": "code",
   "execution_count": null,
   "id": "0d13cffb-d5b4-4a7a-9f28-a64259f7f742",
   "metadata": {},
   "outputs": [],
   "source": [
    "\n",
    "model.summary()"
   ]
  },
  {
   "cell_type": "code",
   "execution_count": null,
   "id": "dd0722ba-e27e-47b7-8b33-e0872fc6d4f3",
   "metadata": {},
   "outputs": [],
   "source": [
    "# Compile the model\n",
    "model.compile(optimizer='adam', loss='mean_squared_error')\n",
    "\n",
    "# Train the model\n",
    "history = model.fit(X_train, y_train, epochs=20, batch_size=32, validation_data=(X_test, y_test), shuffle=False)\n",
    "\n",
    "# Evaluate the model\n",
    "loss = model.evaluate(X_test, y_test)\n",
    "print(f\"Test Loss: {loss}\")"
   ]
  },
  {
   "cell_type": "code",
   "execution_count": null,
   "id": "620b5e4a-d600-481a-824f-b132457feb5d",
   "metadata": {},
   "outputs": [],
   "source": [
    "# Predict on the test set\n",
    "y_pred = model.predict(X_test)\n",
    "\n",
    "# Inverse transform the predictions and true values to get them back to the original scale\n",
    "y_test_scaled = scaler.inverse_transform(np.concatenate((np.zeros((len(y_test), 5)), y_test.reshape(-1, 1)), axis=1))[:, 5]\n",
    "y_pred_scaled = scaler.inverse_transform(np.concatenate((np.zeros((len(y_pred), 5)), y_pr"
   ]
  },
  {
   "cell_type": "code",
   "execution_count": null,
   "id": "839ef39c-53b5-4c1a-a49b-8294812be68d",
   "metadata": {},
   "outputs": [],
   "source": [
    "# Print some predictions and true values\n",
    "print(\"Predictions vs True Values:\")\n",
    "for i in range(10):\n",
    "    print(f\"Prediction: {y_pred_scaled[i]}, True Value: {y_test_scaled[i]}\")"
   ]
  },
  {
   "cell_type": "code",
   "execution_count": null,
   "id": "cdc946f5-ded2-4cfc-a99e-ccf1236ea1ca",
   "metadata": {},
   "outputs": [],
   "source": [
    "# Assuming y_pred is your predictions and scaler is the MinMaxScaler you used for scaling\n",
    "# Assuming y_pred is of shape (number of samples, 1) and needs to be reshaped to fit with other features\n",
    "\n",
    "# Create an array of zeros with the same number of samples as y_pred and with 5 columns (for the other features)\n",
    "zeros = np.zeros((len(y_pred), 5))\n",
    "\n",
    "# Concatenate zeros with y_pred along the second axis (axis=1)\n",
    "combined = np.concatenate((zeros, y_pred), axis=1)\n",
    "\n",
    "# Inverse transform to get the original scale\n",
    "y_pred_scaled = scaler.inverse_transform(combined)\n",
    "\n",
    "# Extract the scaled predictions (the last column)\n",
    "y_pred_scaled = y_pred_scaled[:, -1]\n"
   ]
  },
  {
   "cell_type": "code",
   "execution_count": null,
   "id": "799bf7ac-31b2-499d-87d6-632af2f73d73",
   "metadata": {},
   "outputs": [],
   "source": [
    "# Reshape y_pred to a 2D array with one column\n",
    "y_pred = y_pred.reshape(-1, 1)\n",
    "\n",
    "# Create an array of zeros with the same number of samples as y_pred and with 5 columns\n",
    "zeros = np.zeros((len(y_pred), 5))\n",
    "\n",
    "# Concatenate zeros with y_pred along the second axis (axis=1)\n",
    "combined = np.concatenate((zeros, y_pred), axis=1)\n",
    "\n",
    "# Inverse transform to get the original scale\n",
    "y_pred_scaled = scaler.inverse_transform(combined)\n",
    "\n",
    "# Extract the scaled predictions (the last column)\n",
    "y_pred_scaled = y_pred_scaled[:, -1]\n"
   ]
  },
  {
   "cell_type": "code",
   "execution_count": 5,
   "id": "0c2acf3b-e067-4a88-8a68-08df85ba32c0",
   "metadata": {},
   "outputs": [
    {
     "ename": "NameError",
     "evalue": "name 'model' is not defined",
     "output_type": "error",
     "traceback": [
      "\u001b[1;31m---------------------------------------------------------------------------\u001b[0m",
      "\u001b[1;31mNameError\u001b[0m                                 Traceback (most recent call last)",
      "Cell \u001b[1;32mIn[5], line 2\u001b[0m\n\u001b[0;32m      1\u001b[0m \u001b[38;5;66;03m# Predict on the test set\u001b[39;00m\n\u001b[1;32m----> 2\u001b[0m y_pred \u001b[38;5;241m=\u001b[39m model\u001b[38;5;241m.\u001b[39mpredict(X_test)\n\u001b[0;32m      4\u001b[0m \u001b[38;5;66;03m# Inverse transform the predictions and true values to get them back to the original scale\u001b[39;00m\n\u001b[0;32m      5\u001b[0m y_test_scaled \u001b[38;5;241m=\u001b[39m scaler\u001b[38;5;241m.\u001b[39minverse_transform(np\u001b[38;5;241m.\u001b[39mconcatenate((np\u001b[38;5;241m.\u001b[39mzeros((\u001b[38;5;28mlen\u001b[39m(y_test), \u001b[38;5;241m5\u001b[39m)), y_test\u001b[38;5;241m.\u001b[39mreshape(\u001b[38;5;241m-\u001b[39m\u001b[38;5;241m1\u001b[39m, \u001b[38;5;241m1\u001b[39m)), axis\u001b[38;5;241m=\u001b[39m\u001b[38;5;241m1\u001b[39m))[:, \u001b[38;5;241m5\u001b[39m]\n",
      "\u001b[1;31mNameError\u001b[0m: name 'model' is not defined"
     ]
    }
   ],
   "source": [
    "# Predict on the test set\n",
    "y_pred = model.predict(X_test)\n",
    "\n",
    "# Inverse transform the predictions and true values to get them back to the original scale\n",
    "y_test_scaled = scaler.inverse_transform(np.concatenate((np.zeros((len(y_test), 5)), y_test.reshape(-1, 1)), axis=1))[:, 5]\n",
    "y_pred_scaled = scaler.inverse_transform(np.concatenate((np.zeros((len(y_pred), 5)), y_pred), axis=1))[:, 5]"
   ]
  },
  {
   "cell_type": "code",
   "execution_count": 6,
   "id": "66264755-6ceb-46ba-a1f9-0647c3b6abc8",
   "metadata": {},
   "outputs": [
    {
     "ename": "SyntaxError",
     "evalue": "invalid syntax (2384214566.py, line 1)",
     "output_type": "error",
     "traceback": [
      "\u001b[1;36m  Cell \u001b[1;32mIn[6], line 1\u001b[1;36m\u001b[0m\n\u001b[1;33m    rint some predictions and true values\u001b[0m\n\u001b[1;37m         ^\u001b[0m\n\u001b[1;31mSyntaxError\u001b[0m\u001b[1;31m:\u001b[0m invalid syntax\n"
     ]
    }
   ],
   "source": [
    "rint some predictions and true values\n",
    "print(\"Predictions vs True Values:\")\n",
    "for i in range(10):\n",
    "    print(f\"Prediction: {y_pred_scaled[i]}, True Value: {y_test_scaled[i]}\")"
   ]
  },
  {
   "cell_type": "code",
   "execution_count": 7,
   "id": "d30147ec-34fc-4557-98c7-e31d8d2f9c79",
   "metadata": {},
   "outputs": [
    {
     "name": "stdout",
     "output_type": "stream",
     "text": [
      "Predictions vs True Values:\n"
     ]
    },
    {
     "ename": "NameError",
     "evalue": "name 'y_pred_scaled' is not defined",
     "output_type": "error",
     "traceback": [
      "\u001b[1;31m---------------------------------------------------------------------------\u001b[0m",
      "\u001b[1;31mNameError\u001b[0m                                 Traceback (most recent call last)",
      "Cell \u001b[1;32mIn[7], line 4\u001b[0m\n\u001b[0;32m      2\u001b[0m \u001b[38;5;28mprint\u001b[39m(\u001b[38;5;124m\"\u001b[39m\u001b[38;5;124mPredictions vs True Values:\u001b[39m\u001b[38;5;124m\"\u001b[39m)\n\u001b[0;32m      3\u001b[0m \u001b[38;5;28;01mfor\u001b[39;00m i \u001b[38;5;129;01min\u001b[39;00m \u001b[38;5;28mrange\u001b[39m(\u001b[38;5;241m10\u001b[39m):\n\u001b[1;32m----> 4\u001b[0m     \u001b[38;5;28mprint\u001b[39m(\u001b[38;5;124mf\u001b[39m\u001b[38;5;124m\"\u001b[39m\u001b[38;5;124mPrediction: \u001b[39m\u001b[38;5;132;01m{\u001b[39;00my_pred_scaled[i]\u001b[38;5;132;01m}\u001b[39;00m\u001b[38;5;124m, True Value: \u001b[39m\u001b[38;5;132;01m{\u001b[39;00my_test_scaled[i]\u001b[38;5;132;01m}\u001b[39;00m\u001b[38;5;124m\"\u001b[39m)\n",
      "\u001b[1;31mNameError\u001b[0m: name 'y_pred_scaled' is not defined"
     ]
    }
   ],
   "source": [
    "# Print some predictions and true values\n",
    "print(\"Predictions vs True Values:\")\n",
    "for i in range(10):\n",
    "    print(f\"Prediction: {y_pred_scaled[i]}, True Value: {y_test_scaled[i]}\")\n"
   ]
  },
  {
   "cell_type": "code",
   "execution_count": 8,
   "id": "bed4c7e1-fe75-45e0-a2e6-4c05f507adb6",
   "metadata": {},
   "outputs": [
    {
     "ename": "NameError",
     "evalue": "name 'y_test_scaled' is not defined",
     "output_type": "error",
     "traceback": [
      "\u001b[1;31m---------------------------------------------------------------------------\u001b[0m",
      "\u001b[1;31mNameError\u001b[0m                                 Traceback (most recent call last)",
      "Cell \u001b[1;32mIn[8], line 4\u001b[0m\n\u001b[0;32m      1\u001b[0m \u001b[38;5;28;01mfrom\u001b[39;00m \u001b[38;5;21;01msklearn\u001b[39;00m\u001b[38;5;21;01m.\u001b[39;00m\u001b[38;5;21;01mmetrics\u001b[39;00m \u001b[38;5;28;01mimport\u001b[39;00m mean_squared_error, mean_absolute_error, r2_score\n\u001b[0;32m      3\u001b[0m \u001b[38;5;66;03m# Compute RMSE\u001b[39;00m\n\u001b[1;32m----> 4\u001b[0m rmse \u001b[38;5;241m=\u001b[39m np\u001b[38;5;241m.\u001b[39msqrt(mean_squared_error(y_test_scaled, y_pred_scaled))\n\u001b[0;32m      5\u001b[0m \u001b[38;5;28mprint\u001b[39m(\u001b[38;5;124mf\u001b[39m\u001b[38;5;124m'\u001b[39m\u001b[38;5;124mRMSE: \u001b[39m\u001b[38;5;132;01m{\u001b[39;00mrmse\u001b[38;5;132;01m}\u001b[39;00m\u001b[38;5;124m'\u001b[39m)\n\u001b[0;32m      7\u001b[0m \u001b[38;5;66;03m# Compute MAE\u001b[39;00m\n",
      "\u001b[1;31mNameError\u001b[0m: name 'y_test_scaled' is not defined"
     ]
    }
   ],
   "source": [
    "from sklearn.metrics import mean_squared_error, mean_absolute_error, r2_score\n",
    "\n",
    "# Compute RMSE\n",
    "rmse = np.sqrt(mean_squared_error(y_test_scaled, y_pred_scaled))\n",
    "print(f'RMSE: {rmse}')\n",
    "\n",
    "# Compute MAE\n",
    "mae = mean_absolute_error(y_test_scaled, y_pred_scaled)\n",
    "print(f'MAE: {mae}')\n",
    "\n",
    "# Compute MAPE\n",
    "mape = np.mean(np.abs((y_test_scaled - y_pred_scaled) / y_pred_scaled)) * 100\n",
    "print(f'MAPE: {mape}')\n",
    "# Compute R-squared\n",
    "r2 = r2_score(y_test_scaled, y_pred_scaled)\n",
    "print(f'R-squared: {r2}')"
   ]
  },
  {
   "cell_type": "code",
   "execution_count": null,
   "id": "2dd437fc-bbbe-41af-a5dd-c1d164b5882e",
   "metadata": {},
   "outputs": [],
   "source": [
    "\n",
    "# Plot the predictions vs true values\n",
    "plt.figure(figsize=(14, 7))\n",
    "plt.plot(y_test_scaled, label='True Values')\n",
    "plt.plot(y_pred_scaled, label='LSTM Predictions')\n",
    "plt.title('LSTM: Predictions vs True Values')\n",
    "plt.xlabel('Time')\n",
    "plt.ylabel('Close Price')\n",
    "plt.legend()\n",
    "plt.show()"
   ]
  },
  {
   "cell_type": "code",
   "execution_count": null,
   "id": "f11cf5d8-0a1a-4a5e-9acd-fba5d18768ba",
   "metadata": {},
   "outputs": [],
   "source": [
    "from sklearn.ensemble import RandomForestRegressor #ensemble model\n",
    "from sklearn.tree import DecisionTreeRegressor #simple algo\n",
    "from sklearn.metrics import mean_squared_error\n",
    "import pandas as pd\n",
    "import numpy as np"
   ]
  },
  {
   "cell_type": "code",
   "execution_count": null,
   "id": "4e8d84d2-ee50-4eb8-a477-c2f6a1503da4",
   "metadata": {},
   "outputs": [],
   "source": [
    "import numpy as np\n",
    "\n",
    "def create_sequences(data, target_col, sequence_length):\n",
    "    \"\"\"\n",
    "    Create sequences of features and labels for time series data.\n",
    "    \n",
    "    Parameters:\n",
    "    - data (np.ndarray): The input data where the last column is the target.\n",
    "    - target_col (int): The index of the target column in the data.\n",
    "    - sequence_length (int): The length of each sequence.\n",
    "\n",
    "    Returns:\n",
    "    - np.ndarray: 3D array of sequences (samples, sequence_length, num_features)\n",
    "    - np.ndarray: 1D array of target values\n",
    "    \"\"\"\n",
    "    num_samples = len(data) - sequence_length\n",
    "    num_features = data.shape[1]\n",
    "    \n",
    "    sequences = np.zeros((num_samples, sequence_length, num_features))\n",
    "    labels = np.zeros(num_samples)\n",
    "\n",
    "    for i in range(num_samples):\n",
    "        sequences[i] = data[i:i + sequence_length]\n",
    "        labels[i] = data[i + sequence_length, target_col]  # Target is specified column\n",
    "\n",
    "    return sequences, labels\n",
    "\n",
    "# Example usage\n",
    "sequence_length = 30\n",
    "\n",
    "# Convert DataFrame to NumPy array\n",
    "data_array = scaled_df.values\n",
    "\n",
    "# Define the target column index\n",
    "target_col = scaled_df.columns.get_loc('Adj Close')\n",
    "\n",
    "# Create sequences\n",
    "X, y = create_sequences(data_array, target_col, sequence_length)\n",
    "\n",
    "# Flatten X for Decision Tree\n",
    "num_samples, seq_length, num_features = X.shape\n",
    "X_flattened = X.reshape(num_samples, seq_length * num_features)"
   ]
  },
  {
   "cell_type": "code",
   "execution_count": null,
   "id": "5d05e972-6e08-431a-97b6-e29ccc926c61",
   "metadata": {},
   "outputs": [],
   "source": [
    "# Split data into train and test sets\n",
    "X_train, X_test, y_train, y_test = train_test_split(X_flattened, y, test_size=0.2, random_state=42)"
   ]
  },
  {
   "cell_type": "code",
   "execution_count": null,
   "id": "07f413c8-a571-44ea-ada7-e03178038aa0",
   "metadata": {},
   "outputs": [],
   "source": [
    "# Train Decision Tree model\n",
    "dt_model = DecisionTreeRegressor()\n",
    "dt_model.fit(X_train, y_train)\n",
    "\n",
    "# Make predictions\n",
    "y_pred_dt = dt_model.predict(X_test)\n",
    "\n",
    "# Evaluate the model\n",
    "mse_dt = mean_squared_error(y_test, y_pred_dt)\n",
    "print(f'MSE (Decision Tree): {mse_dt}')"
   ]
  },
  {
   "cell_type": "code",
   "execution_count": null,
   "id": "fe676c1c-98ca-428f-8169-357141797228",
   "metadata": {},
   "outputs": [],
   "source": [
    "from sklearn.metrics import mean_squared_error, mean_absolute_error, r2_score\n",
    "\n",
    "# Compute RMSE\n",
    "rmse = np.sqrt(mean_squared_error(y_test, y_pred_dt))\n",
    "print(f'RMSE: {rmse}')\n",
    "\n",
    "# Compute MAE\n",
    "mae = mean_absolute_error(y_test, y_pred_dt)\n",
    "print(f'MAE: {mae}')\n",
    "\n",
    "# Compute MAPE\n",
    "mape = np.mean(np.abs((y_test - y_pred_scaled) / y_pred_dt)) * 100\n",
    "print(f'MAPE: {mape}')\n",
    "# Compute R-squared\n",
    "r2 = r2_score(y_test, y_pred_dt)\n",
    "print(f'R-squared: {r2}')"
   ]
  },
  {
   "cell_type": "code",
   "execution_count": 9,
   "id": "b39bf69d-6a63-4d40-a2c1-eec7007d916b",
   "metadata": {},
   "outputs": [
    {
     "ename": "NameError",
     "evalue": "name 'RandomForestRegressor' is not defined",
     "output_type": "error",
     "traceback": [
      "\u001b[1;31m---------------------------------------------------------------------------\u001b[0m",
      "\u001b[1;31mNameError\u001b[0m                                 Traceback (most recent call last)",
      "Cell \u001b[1;32mIn[9], line 2\u001b[0m\n\u001b[0;32m      1\u001b[0m \u001b[38;5;66;03m# Train and evaluate the Random Forest model\u001b[39;00m\n\u001b[1;32m----> 2\u001b[0m rf_model \u001b[38;5;241m=\u001b[39m RandomForestRegressor(n_estimators\u001b[38;5;241m=\u001b[39m\u001b[38;5;241m100\u001b[39m)\n\u001b[0;32m      3\u001b[0m rf_model\u001b[38;5;241m.\u001b[39mfit(X_train, y_train)\n\u001b[0;32m      4\u001b[0m y_pred_rf \u001b[38;5;241m=\u001b[39m rf_model\u001b[38;5;241m.\u001b[39mpredict(X_test)\n",
      "\u001b[1;31mNameError\u001b[0m: name 'RandomForestRegressor' is not defined"
     ]
    }
   ],
   "source": [
    "# Train and evaluate the Random Forest model\n",
    "rf_model = RandomForestRegressor(n_estimators=100)\n",
    "rf_model.fit(X_train, y_train)\n",
    "y_pred_rf = rf_model.predict(X_test)\n",
    "mse_rf = mean_squared_error(y_test, y_pred_rf)\n",
    "print(f\"Random Forest Mean Squared Error: {mse_rf}\")"
   ]
  },
  {
   "cell_type": "code",
   "execution_count": 10,
   "id": "d886fce7-4caf-43e4-9b44-ff28fc8c8ddd",
   "metadata": {},
   "outputs": [
    {
     "ename": "NameError",
     "evalue": "name 'y_test' is not defined",
     "output_type": "error",
     "traceback": [
      "\u001b[1;31m---------------------------------------------------------------------------\u001b[0m",
      "\u001b[1;31mNameError\u001b[0m                                 Traceback (most recent call last)",
      "Cell \u001b[1;32mIn[10], line 4\u001b[0m\n\u001b[0;32m      1\u001b[0m \u001b[38;5;28;01mfrom\u001b[39;00m \u001b[38;5;21;01msklearn\u001b[39;00m\u001b[38;5;21;01m.\u001b[39;00m\u001b[38;5;21;01mmetrics\u001b[39;00m \u001b[38;5;28;01mimport\u001b[39;00m mean_squared_error, mean_absolute_error, r2_score\n\u001b[0;32m      3\u001b[0m \u001b[38;5;66;03m# Compute RMSE\u001b[39;00m\n\u001b[1;32m----> 4\u001b[0m rmse \u001b[38;5;241m=\u001b[39m np\u001b[38;5;241m.\u001b[39msqrt(mean_squared_error(y_test, y_pred_rf))\n\u001b[0;32m      5\u001b[0m \u001b[38;5;28mprint\u001b[39m(\u001b[38;5;124mf\u001b[39m\u001b[38;5;124m'\u001b[39m\u001b[38;5;124mRMSE: \u001b[39m\u001b[38;5;132;01m{\u001b[39;00mrmse\u001b[38;5;132;01m}\u001b[39;00m\u001b[38;5;124m'\u001b[39m)\n\u001b[0;32m      7\u001b[0m \u001b[38;5;66;03m# Compute MAE\u001b[39;00m\n",
      "\u001b[1;31mNameError\u001b[0m: name 'y_test' is not defined"
     ]
    }
   ],
   "source": [
    "from sklearn.metrics import mean_squared_error, mean_absolute_error, r2_score\n",
    "\n",
    "# Compute RMSE\n",
    "rmse = np.sqrt(mean_squared_error(y_test, y_pred_rf))\n",
    "print(f'RMSE: {rmse}')\n",
    "\n",
    "# Compute MAE\n",
    "mae = mean_absolute_error(y_test, y_pred_rf)\n",
    "print(f'MAE: {mae}')\n",
    "\n",
    "# Compute MAPE\n",
    "mape = np.mean(np.abs((y_test - y_pred_scaled) / y_pred_rf)) * 100\n",
    "print(f'MAPE: {mape}')\n",
    "# Compute R-squared\n",
    "r2 = r2_score(y_test, y_pred_rf)\n",
    "print(f'R-squared: {r2}')"
   ]
  },
  {
   "cell_type": "code",
   "execution_count": 11,
   "id": "4f412226-68f0-4247-8762-9c282cc5bb34",
   "metadata": {},
   "outputs": [
    {
     "name": "stdout",
     "output_type": "stream",
     "text": [
      "\n",
      "Decision Tree Predictions vs True Values:\n"
     ]
    },
    {
     "ename": "NameError",
     "evalue": "name 'y_pred_dt' is not defined",
     "output_type": "error",
     "traceback": [
      "\u001b[1;31m---------------------------------------------------------------------------\u001b[0m",
      "\u001b[1;31mNameError\u001b[0m                                 Traceback (most recent call last)",
      "Cell \u001b[1;32mIn[11], line 4\u001b[0m\n\u001b[0;32m      2\u001b[0m \u001b[38;5;28mprint\u001b[39m(\u001b[38;5;124m\"\u001b[39m\u001b[38;5;130;01m\\n\u001b[39;00m\u001b[38;5;124mDecision Tree Predictions vs True Values:\u001b[39m\u001b[38;5;124m\"\u001b[39m)\n\u001b[0;32m      3\u001b[0m \u001b[38;5;28;01mfor\u001b[39;00m i \u001b[38;5;129;01min\u001b[39;00m \u001b[38;5;28mrange\u001b[39m(\u001b[38;5;241m10\u001b[39m):\n\u001b[1;32m----> 4\u001b[0m     \u001b[38;5;28mprint\u001b[39m(\u001b[38;5;124mf\u001b[39m\u001b[38;5;124m\"\u001b[39m\u001b[38;5;124mPrediction: \u001b[39m\u001b[38;5;132;01m{\u001b[39;00my_pred_dt[i]\u001b[38;5;132;01m}\u001b[39;00m\u001b[38;5;124m, True Value: \u001b[39m\u001b[38;5;132;01m{\u001b[39;00my_test[i]\u001b[38;5;132;01m}\u001b[39;00m\u001b[38;5;124m\"\u001b[39m)\n",
      "\u001b[1;31mNameError\u001b[0m: name 'y_pred_dt' is not defined"
     ]
    }
   ],
   "source": [
    "# Print some predictions and true values for both models\n",
    "print(\"\\nDecision Tree Predictions vs True Values:\")\n",
    "for i in range(10):\n",
    "    print(f\"Prediction: {y_pred_dt[i]}, True Value: {y_test[i]}\")"
   ]
  },
  {
   "cell_type": "code",
   "execution_count": 12,
   "id": "3cfca1da-56f8-4fdd-94a2-e2b2aa4b082d",
   "metadata": {},
   "outputs": [
    {
     "ename": "NameError",
     "evalue": "name 'plt' is not defined",
     "output_type": "error",
     "traceback": [
      "\u001b[1;31m---------------------------------------------------------------------------\u001b[0m",
      "\u001b[1;31mNameError\u001b[0m                                 Traceback (most recent call last)",
      "Cell \u001b[1;32mIn[12], line 2\u001b[0m\n\u001b[0;32m      1\u001b[0m \u001b[38;5;66;03m# Plot the predictions vs true values for Decision Tree\u001b[39;00m\n\u001b[1;32m----> 2\u001b[0m plt\u001b[38;5;241m.\u001b[39mfigure(figsize\u001b[38;5;241m=\u001b[39m(\u001b[38;5;241m14\u001b[39m, \u001b[38;5;241m7\u001b[39m))\n\u001b[0;32m      3\u001b[0m plt\u001b[38;5;241m.\u001b[39mplot(y_test, label\u001b[38;5;241m=\u001b[39m\u001b[38;5;124m'\u001b[39m\u001b[38;5;124mTrue Values\u001b[39m\u001b[38;5;124m'\u001b[39m)\n\u001b[0;32m      4\u001b[0m plt\u001b[38;5;241m.\u001b[39mplot(y_pred_dt, label\u001b[38;5;241m=\u001b[39m\u001b[38;5;124m'\u001b[39m\u001b[38;5;124mDecision Tree Predictions\u001b[39m\u001b[38;5;124m'\u001b[39m)\n",
      "\u001b[1;31mNameError\u001b[0m: name 'plt' is not defined"
     ]
    }
   ],
   "source": [
    "# Plot the predictions vs true values for Decision Tree\n",
    "plt.figure(figsize=(14, 7))\n",
    "plt.plot(y_test, label='True Values')\n",
    "plt.plot(y_pred_dt, label='Decision Tree Predictions')\n",
    "plt.title('Decision Tree: Predictions vs True Values')\n",
    "plt.xlabel('Time')\n",
    "plt.ylabel('Close Price')\n",
    "plt.legend()\n",
    "plt.show()"
   ]
  },
  {
   "cell_type": "code",
   "execution_count": 13,
   "id": "20791bcc-6698-408e-bf97-6582813f3010",
   "metadata": {},
   "outputs": [
    {
     "name": "stdout",
     "output_type": "stream",
     "text": [
      "\n",
      "Random Forest Predictions vs True Values:\n"
     ]
    },
    {
     "ename": "NameError",
     "evalue": "name 'y_pred_rf' is not defined",
     "output_type": "error",
     "traceback": [
      "\u001b[1;31m---------------------------------------------------------------------------\u001b[0m",
      "\u001b[1;31mNameError\u001b[0m                                 Traceback (most recent call last)",
      "Cell \u001b[1;32mIn[13], line 3\u001b[0m\n\u001b[0;32m      1\u001b[0m \u001b[38;5;28mprint\u001b[39m(\u001b[38;5;124m\"\u001b[39m\u001b[38;5;130;01m\\n\u001b[39;00m\u001b[38;5;124mRandom Forest Predictions vs True Values:\u001b[39m\u001b[38;5;124m\"\u001b[39m)\n\u001b[0;32m      2\u001b[0m \u001b[38;5;28;01mfor\u001b[39;00m i \u001b[38;5;129;01min\u001b[39;00m \u001b[38;5;28mrange\u001b[39m(\u001b[38;5;241m10\u001b[39m):\n\u001b[1;32m----> 3\u001b[0m     \u001b[38;5;28mprint\u001b[39m(\u001b[38;5;124mf\u001b[39m\u001b[38;5;124m\"\u001b[39m\u001b[38;5;124mPrediction: \u001b[39m\u001b[38;5;132;01m{\u001b[39;00my_pred_rf[i]\u001b[38;5;132;01m}\u001b[39;00m\u001b[38;5;124m, True Value: \u001b[39m\u001b[38;5;132;01m{\u001b[39;00my_test[i]\u001b[38;5;132;01m}\u001b[39;00m\u001b[38;5;124m\"\u001b[39m)\n",
      "\u001b[1;31mNameError\u001b[0m: name 'y_pred_rf' is not defined"
     ]
    }
   ],
   "source": [
    "print(\"\\nRandom Forest Predictions vs True Values:\")\n",
    "for i in range(10):\n",
    "    print(f\"Prediction: {y_pred_rf[i]}, True Value: {y_test[i]}\")"
   ]
  },
  {
   "cell_type": "code",
   "execution_count": 14,
   "id": "f4712753-0b6b-4cb5-ae44-16e6424a4d9e",
   "metadata": {},
   "outputs": [
    {
     "ename": "NameError",
     "evalue": "name 'plt' is not defined",
     "output_type": "error",
     "traceback": [
      "\u001b[1;31m---------------------------------------------------------------------------\u001b[0m",
      "\u001b[1;31mNameError\u001b[0m                                 Traceback (most recent call last)",
      "Cell \u001b[1;32mIn[14], line 2\u001b[0m\n\u001b[0;32m      1\u001b[0m \u001b[38;5;66;03m# Plot the predictions vs true values for Random Forest\u001b[39;00m\n\u001b[1;32m----> 2\u001b[0m plt\u001b[38;5;241m.\u001b[39mfigure(figsize\u001b[38;5;241m=\u001b[39m(\u001b[38;5;241m14\u001b[39m, \u001b[38;5;241m7\u001b[39m))\n\u001b[0;32m      3\u001b[0m plt\u001b[38;5;241m.\u001b[39mplot(y_test, label\u001b[38;5;241m=\u001b[39m\u001b[38;5;124m'\u001b[39m\u001b[38;5;124mTrue Values\u001b[39m\u001b[38;5;124m'\u001b[39m)\n\u001b[0;32m      4\u001b[0m plt\u001b[38;5;241m.\u001b[39mplot(y_pred_rf, label\u001b[38;5;241m=\u001b[39m\u001b[38;5;124m'\u001b[39m\u001b[38;5;124mRandom Forest Predictions\u001b[39m\u001b[38;5;124m'\u001b[39m)\n",
      "\u001b[1;31mNameError\u001b[0m: name 'plt' is not defined"
     ]
    }
   ],
   "source": [
    "# Plot the predictions vs true values for Random Forest\n",
    "plt.figure(figsize=(14, 7))\n",
    "plt.plot(y_test, label='True Values')\n",
    "plt.plot(y_pred_rf, label='Random Forest Predictions')\n",
    "plt.title('Random Forest: Predictions vs True Values')\n",
    "plt.xlabel('Time')\n",
    "plt.ylabel('Close Price')\n",
    "plt.legend()\n",
    "plt.show()"
   ]
  },
  {
   "cell_type": "code",
   "execution_count": 15,
   "id": "ba33f54f-d8d4-4474-bd99-f2514dbd1550",
   "metadata": {},
   "outputs": [
    {
     "ename": "NameError",
     "evalue": "name 'plt' is not defined",
     "output_type": "error",
     "traceback": [
      "\u001b[1;31m---------------------------------------------------------------------------\u001b[0m",
      "\u001b[1;31mNameError\u001b[0m                                 Traceback (most recent call last)",
      "Cell \u001b[1;32mIn[15], line 2\u001b[0m\n\u001b[0;32m      1\u001b[0m \u001b[38;5;66;03m# Plot both Decision Tree and Random Forest predictions together\u001b[39;00m\n\u001b[1;32m----> 2\u001b[0m plt\u001b[38;5;241m.\u001b[39mfigure(figsize\u001b[38;5;241m=\u001b[39m(\u001b[38;5;241m14\u001b[39m, \u001b[38;5;241m7\u001b[39m))\n\u001b[0;32m      3\u001b[0m plt\u001b[38;5;241m.\u001b[39mplot(y_test, label\u001b[38;5;241m=\u001b[39m\u001b[38;5;124m'\u001b[39m\u001b[38;5;124mTrue Values\u001b[39m\u001b[38;5;124m'\u001b[39m)\n\u001b[0;32m      4\u001b[0m plt\u001b[38;5;241m.\u001b[39mplot(y_pred_dt, label\u001b[38;5;241m=\u001b[39m\u001b[38;5;124m'\u001b[39m\u001b[38;5;124mDecision Tree Predictions\u001b[39m\u001b[38;5;124m'\u001b[39m)\n",
      "\u001b[1;31mNameError\u001b[0m: name 'plt' is not defined"
     ]
    }
   ],
   "source": [
    "# Plot both Decision Tree and Random Forest predictions together\n",
    "plt.figure(figsize=(14, 7))\n",
    "plt.plot(y_test, label='True Values')\n",
    "plt.plot(y_pred_dt, label='Decision Tree Predictions')\n",
    "plt.plot(y_pred_rf, label='Random Forest Predictions')\n",
    "plt.title('Decision Tree & Random Forest: Predictions vs True Values')\n",
    "plt.xlabel('Time')\n",
    "plt.ylabel('Close Price')\n",
    "plt.legend()\n",
    "plt.show()"
   ]
  },
  {
   "cell_type": "code",
   "execution_count": null,
   "id": "1e0e9616-537a-493f-8e3f-8340bcdb7619",
   "metadata": {},
   "outputs": [],
   "source": []
  },
  {
   "cell_type": "code",
   "execution_count": null,
   "id": "c30d6edf-9942-44ac-81d1-453d57c8dbab",
   "metadata": {},
   "outputs": [],
   "source": []
  },
  {
   "cell_type": "code",
   "execution_count": null,
   "id": "584f2f1b-d3d0-4983-ae34-917369f1721b",
   "metadata": {},
   "outputs": [],
   "source": []
  }
 ],
 "metadata": {
  "kernelspec": {
   "display_name": "Python 3 (ipykernel)",
   "language": "python",
   "name": "python3"
  },
  "language_info": {
   "codemirror_mode": {
    "name": "ipython",
    "version": 3
   },
   "file_extension": ".py",
   "mimetype": "text/x-python",
   "name": "python",
   "nbconvert_exporter": "python",
   "pygments_lexer": "ipython3",
   "version": "3.11.7"
  }
 },
 "nbformat": 4,
 "nbformat_minor": 5
}
